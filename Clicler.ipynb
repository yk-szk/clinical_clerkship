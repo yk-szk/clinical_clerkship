{
 "cells": [
  {
   "cell_type": "markdown",
   "metadata": {
    "slideshow": {
     "slide_type": "slide"
    }
   },
   "source": [
    "# Deep learning 実演\n",
    "\n",
    "## 目的\n",
    "* 実際にDeep learning(AI)の開発を見てもらいAIがどんなものかを(少しでいいので)知ってもらう"
   ]
  },
  {
   "cell_type": "markdown",
   "metadata": {
    "slideshow": {
     "slide_type": "slide"
    }
   },
   "source": [
    "# 題材：手書き数字認識\n",
    "![AI IO](images/IO.png \"AI IO\")"
   ]
  },
  {
   "cell_type": "markdown",
   "metadata": {
    "slideshow": {
     "slide_type": "slide"
    }
   },
   "source": [
    "# Deep learning 開発の流れ\n",
    "* 環境構築\n",
    "* データセットの用意\n",
    "* ネットワーク構築\n",
    "* 学習\n",
    "* 評価\n",
    "* アプリケーション作成\n"
   ]
  },
  {
   "cell_type": "markdown",
   "metadata": {
    "slideshow": {
     "slide_type": "slide"
    }
   },
   "source": [
    "# スライドの見方"
   ]
  },
  {
   "cell_type": "code",
   "execution_count": null,
   "metadata": {},
   "outputs": [],
   "source": [
    "a = 1\n",
    "b = 2\n",
    "print('a + b = ', a + b)"
   ]
  },
  {
   "cell_type": "markdown",
   "metadata": {
    "slideshow": {
     "slide_type": "slide"
    }
   },
   "source": [
    "# 環境構築\n",
    "## ハードウェア\n",
    "### クラウド\n",
    "* Colaboratory (無料)\n",
    "* AWS, GCP (基本的に有料)\n",
    "\n",
    "### 自前\n",
    "* ノートパソコン\n",
    "* デスクトップパソコン\n",
    "  * GPU"
   ]
  },
  {
   "cell_type": "markdown",
   "metadata": {
    "slideshow": {
     "slide_type": "subslide"
    }
   },
   "source": [
    "## ソフトウェア\n",
    "* C++, Caffe2\n",
    "* Python, pytorch\n",
    "* __Python, Keras__"
   ]
  },
  {
   "cell_type": "markdown",
   "metadata": {
    "slideshow": {
     "slide_type": "slide"
    }
   },
   "source": [
    "# データセットの用意\n",
    "* ~~自分で作成する~~\n",
    "* 公開されているデータセットを用いる"
   ]
  },
  {
   "cell_type": "markdown",
   "metadata": {
    "slideshow": {
     "slide_type": "subslide"
    }
   },
   "source": [
    "## MNIST\n",
    "* 手書き数字データセット\n",
    "* Modified National Institute of Standards and Technology database\n",
    "* 学習用：6万枚、　テスト用：1万枚\n",
    "![mnist examples](images/MnistExamples.png \"mnist examples\")\n",
    "* 新しいモデルのテスト等によく使われる"
   ]
  },
  {
   "cell_type": "markdown",
   "metadata": {
    "slideshow": {
     "slide_type": "subslide"
    }
   },
   "source": [
    "# 公開データセットのダウンロード"
   ]
  },
  {
   "cell_type": "code",
   "execution_count": 1,
   "metadata": {},
   "outputs": [
    {
     "name": "stderr",
     "output_type": "stream",
     "text": [
      "Using TensorFlow backend.\n"
     ]
    },
    {
     "name": "stdout",
     "output_type": "stream",
     "text": [
      "学習データ数：60000、テストデータ数：10000\n"
     ]
    }
   ],
   "source": [
    "import warnings\n",
    "warnings.filterwarnings(\"ignore\", category=FutureWarning)\n",
    "import os\n",
    "os.environ['TF_CPP_MIN_LOG_LEVEL'] = '3'\n",
    "import tensorflow as tf\n",
    "tf.logging.set_verbosity(tf.logging.ERROR)\n",
    "\n",
    "import keras\n",
    "from keras.datasets import mnist\n",
    "(x_train, y_train), (x_test, y_test) = mnist.load_data()\n",
    "print(r'学習データ数：{}、テストデータ数：{}'.format(x_train.shape[0], x_test.shape[0]))"
   ]
  },
  {
   "cell_type": "markdown",
   "metadata": {
    "slideshow": {
     "slide_type": "subslide"
    }
   },
   "source": [
    "## データの確認"
   ]
  },
  {
   "cell_type": "code",
   "execution_count": 56,
   "metadata": {},
   "outputs": [
    {
     "data": {
      "image/png": "[encoded data removed]",
      "text/plain": [
       "<Figure size 432x288 with 1 Axes>"
      ]
     },
     "metadata": {
      "needs_background": "light"
     },
     "output_type": "display_data"
    }
   ],
   "source": [
    "%matplotlib inline\n",
    "import matplotlib.pyplot as plt\n",
    "import random\n",
    "\n",
    "def show_image(i):\n",
    "    plt.imshow(255-x_train[i,:,:], cmap='gray')\n",
    "    plt.axis('off'), plt.title('Y = {}'.format(y_train[i]))\n",
    "\n",
    "show_image(random.randint(0, len(x_train)))"
   ]
  },
  {
   "cell_type": "markdown",
   "metadata": {
    "slideshow": {
     "slide_type": "slide"
    }
   },
   "source": [
    "# ネットワーク構築"
   ]
  },
  {
   "cell_type": "code",
   "execution_count": 57,
   "metadata": {},
   "outputs": [
    {
     "name": "stdout",
     "output_type": "stream",
     "text": [
      "Model: \"sequential_1\"\n",
      "_________________________________________________________________\n",
      "Layer (type)                 Output Shape              Param #   \n",
      "=================================================================\n",
      "dense_1 (Dense)              (None, 512)               401920    \n",
      "_________________________________________________________________\n",
      "dropout_1 (Dropout)          (None, 512)               0         \n",
      "_________________________________________________________________\n",
      "dense_2 (Dense)              (None, 512)               262656    \n",
      "_________________________________________________________________\n",
      "dropout_2 (Dropout)          (None, 512)               0         \n",
      "_________________________________________________________________\n",
      "dense_3 (Dense)              (None, 10)                5130      \n",
      "=================================================================\n",
      "Total params: 669,706\n",
      "Trainable params: 669,706\n",
      "Non-trainable params: 0\n",
      "_________________________________________________________________\n"
     ]
    }
   ],
   "source": [
    "from keras.models import Sequential\n",
    "from keras.layers import Dense, Dropout, Conv2D, MaxPooling2D, Flatten\n",
    "from keras.optimizers import Adam\n",
    "\n",
    "model = Sequential()\n",
    "model.add(Dense(512, activation='relu', input_shape=(784,)))\n",
    "model.add(Dropout(0.2))\n",
    "model.add(Dense(512, activation='relu'))\n",
    "model.add(Dropout(0.2))\n",
    "model.add(Dense(10, activation='softmax'))\n",
    "\n",
    "model.summary()\n",
    "model.compile(loss='sparse_categorical_crossentropy',\n",
    "              optimizer=Adam(),\n",
    "              metrics=['accuracy'])"
   ]
  },
  {
   "cell_type": "code",
   "execution_count": 58,
   "metadata": {
    "slideshow": {
     "slide_type": "subslide"
    }
   },
   "outputs": [
    {
     "data": {
      "image/png": "[encoded data removed]",
      "text/plain": [
       "<IPython.core.display.Image object>"
      ]
     },
     "metadata": {},
     "output_type": "display_data"
    }
   ],
   "source": [
    "import IPython.display\n",
    "from keras.utils.vis_utils import plot_model\n",
    "net_arch = plot_model(model, to_file='images/model.png', show_layer_names=False, rankdir='LR', dpi=200)\n",
    "IPython.display.display(net_arch)"
   ]
  },
  {
   "cell_type": "markdown",
   "metadata": {
    "slideshow": {
     "slide_type": "subslide"
    }
   },
   "source": [
    "# テスト (学習前)"
   ]
  },
  {
   "cell_type": "code",
   "execution_count": 59,
   "metadata": {},
   "outputs": [],
   "source": [
    "# 準備\n",
    "def test_image(test_input, true_output = None):\n",
    "    plt.figure(figsize=(10, 6))\n",
    "    p = model.predict(test_input.flatten()[None,:]/255)[0]\n",
    "    plt.subplot(1,2,1)\n",
    "    plt.title('Input (Y = {})'.format(true_output if true_output is not None else '?'))\n",
    "    plt.imshow(255-test_input, cmap='gray'), plt.axis('off')\n",
    "    plt.subplot(1,2,2)\n",
    "    plt.title('Output distribution')\n",
    "    plt.xticks(range(10),[str(i) for i in range(10)])\n",
    "    plt.ylim(0,1)\n",
    "    plt.bar(range(10), p)\n",
    "\n",
    "def test_model(i):\n",
    "    test_image(x_test[i], y_test[i])"
   ]
  },
  {
   "cell_type": "code",
   "execution_count": 60,
   "metadata": {
    "slideshow": {
     "slide_type": "subslide"
    }
   },
   "outputs": [
    {
     "data": {
      "image/png": "[encoded data removed]",
      "text/plain": [
       "<Figure size 720x432 with 2 Axes>"
      ]
     },
     "metadata": {
      "needs_background": "light"
     },
     "output_type": "display_data"
    }
   ],
   "source": [
    "test_model(random.randint(0, len(x_test)))"
   ]
  },
  {
   "cell_type": "markdown",
   "metadata": {
    "slideshow": {
     "slide_type": "slide"
    }
   },
   "source": [
    "# 学習\n",
    "学習用データ6万枚を使用\n",
    "\n",
    "## 誤差逆伝播\n",
    "![training](images/training.png \"training\")"
   ]
  },
  {
   "cell_type": "code",
   "execution_count": 61,
   "metadata": {
    "slideshow": {
     "slide_type": "subslide"
    }
   },
   "outputs": [
    {
     "name": "stdout",
     "output_type": "stream",
     "text": [
      "Epoch 1/1\n",
      "60000/60000 [==============================] - 5s 87us/step - loss: 0.2162 - acc: 0.9342\n"
     ]
    }
   ],
   "source": [
    "history = model.fit(x_train.reshape(x_train.shape[0],-1)/255, #入力データ\n",
    "                    y_train, #入力データに対する正解\n",
    "                    batch_size=32,\n",
    "                    epochs=1,\n",
    "                    verbose=1)"
   ]
  },
  {
   "cell_type": "markdown",
   "metadata": {
    "slideshow": {
     "slide_type": "subslide"
    }
   },
   "source": [
    "# テスト (学習後)"
   ]
  },
  {
   "cell_type": "code",
   "execution_count": 62,
   "metadata": {},
   "outputs": [
    {
     "data": {
      "image/png": "[encoded data removed]",
      "text/plain": [
       "<Figure size 720x432 with 2 Axes>"
      ]
     },
     "metadata": {
      "needs_background": "light"
     },
     "output_type": "display_data"
    }
   ],
   "source": [
    "test_model(random.randint(0, len(x_test)))"
   ]
  },
  {
   "cell_type": "markdown",
   "metadata": {
    "slideshow": {
     "slide_type": "slide"
    }
   },
   "source": [
    "# 評価\n",
    "評価用データ1万枚を使用"
   ]
  },
  {
   "cell_type": "code",
   "execution_count": null,
   "metadata": {},
   "outputs": [],
   "source": [
    "import numpy as np\n",
    "from sklearn.metrics import confusion_matrix\n",
    "predictions = model.predict(x_test.reshape(x_test.shape[0],-1)/255)\n",
    "y_pred = np.argmax(predictions, axis=1)\n",
    "cm = confusion_matrix(y_test, y_pred)\n",
    "print('正解率 = {} / {} = {}'.format(cm.trace(), cm.sum(), cm.trace() / cm.sum()))"
   ]
  },
  {
   "cell_type": "markdown",
   "metadata": {
    "slideshow": {
     "slide_type": "subslide"
    }
   },
   "source": [
    "# 混同行列 (Confusion Matrix)"
   ]
  },
  {
   "cell_type": "code",
   "execution_count": null,
   "metadata": {},
   "outputs": [],
   "source": [
    "import seaborn as sns\n",
    "plt.figure(figsize=(10, 10))\n",
    "sns.set(context='notebook',style=\"whitegrid\",font='serif')\n",
    "sns.heatmap(cm, annot=True, fmt=\"d\",cmap='Blues', square=True)\n",
    "plt.xlabel('Prediction'), plt.ylabel('Truth')"
   ]
  },
  {
   "cell_type": "markdown",
   "metadata": {
    "slideshow": {
     "slide_type": "subslide"
    }
   },
   "source": [
    "# 失敗例"
   ]
  },
  {
   "cell_type": "code",
   "execution_count": null,
   "metadata": {},
   "outputs": [],
   "source": [
    "failures = np.where(y_pred != y_test)[0]\n",
    "test_model(failures[random.randint(0, len(failures))])"
   ]
  },
  {
   "cell_type": "markdown",
   "metadata": {
    "slideshow": {
     "slide_type": "slide"
    }
   },
   "source": [
    "# アプリケーション作成\n",
    "作成したAIを活用する"
   ]
  },
  {
   "cell_type": "markdown",
   "metadata": {
    "slideshow": {
     "slide_type": "subslide"
    }
   },
   "source": [
    "## 準備"
   ]
  },
  {
   "cell_type": "code",
   "execution_count": null,
   "metadata": {
    "slideshow": {
     "slide_type": "-"
    }
   },
   "outputs": [],
   "source": [
    "from IPython.core.display import HTML\n",
    "# from https://blog.sky-net.pw/article/70\n",
    "html_src = '''\n",
    "<canvas id=\"canvas\" height=\"280px\" width=\"280px\" style=\"border: 1px solid;\"></canvas>\n",
    "<p>\n",
    "    <label><input type=\"checkbox\" id=\"auto_update\" value=\"1\" checked=\"checked\">Auto</label>\n",
    "    <button id=\"clear\">Clear</button>\n",
    "    <button id=\"submit\">Predict</button>\n",
    "</p>\n",
    "<img id=\"prediction\"></img>\n",
    "<script>\n",
    "    var kernel = IPython.notebook.kernel;\n",
    "\n",
    "    var config = {\n",
    "        \"linesize\": 10,\n",
    "        \"linecolor\": \"#000000\"\n",
    "    }\n",
    "\n",
    "    var mouse = {\n",
    "        \"X\": null,\n",
    "        \"Y\": null,\n",
    "    }\n",
    "\n",
    "    var auto_update = document.getElementById(\"auto_update\");\n",
    "    var clear = document.getElementById(\"clear\");\n",
    "    var submit = document.getElementById(\"submit\");\n",
    "    var canvas = document.getElementById(\"canvas\");\n",
    "    var prediction = document.getElementById(\"prediction\");\n",
    "    var ctx = canvas.getContext(\"2d\");\n",
    "    var last_update = (new Date()).getTime()\n",
    "    var min_interval = 500\n",
    "\n",
    "    clear.addEventListener(\"click\", function(){\n",
    "        ctx.clearRect(0, 0, canvas.width, canvas.height);\n",
    "    });\n",
    "    var callbacks = {\n",
    "            iopub: {\n",
    "            output: (data) => prediction.setAttribute('src',\"data:image/png;base64,\"+data.content.data['image/png'])\n",
    "            }\n",
    "    }\n",
    "    \n",
    "    function predict(){\n",
    "        kernel.execute(\"predict('\" + canvas.toDataURL() + \"')\", callbacks);\n",
    "    }\n",
    "    submit.addEventListener(\"click\", predict);\n",
    "\n",
    "    canvas.addEventListener(\"mouseup\", drawEnd, false);\n",
    "    canvas.addEventListener(\"mouseout\", drawEnd, false);\n",
    "    \n",
    "    canvas.addEventListener(\"mousemove\", function(e){\n",
    "        if (e.buttons === 1 || e.witch === 1) {\n",
    "            var rect = e.target.getBoundingClientRect();\n",
    "            var X = e.clientX - rect.left;\n",
    "            var Y = e.clientY - rect.top;\n",
    "            draw(X, Y);\n",
    "        };\n",
    "    });\n",
    " \n",
    "    canvas.addEventListener(\"mousedown\", function(e){\n",
    "        if (e.button === 0) {\n",
    "            var rect = e.target.getBoundingClientRect();\n",
    "            var X = e.clientX - rect.left;\n",
    "            var Y = e.clientY - rect.top;\n",
    "            draw(X, Y);\n",
    "        }\n",
    "    });\n",
    "\n",
    "    function draw(X, Y) {\n",
    "        ctx.beginPath();\n",
    "        if (mouse.X === null) {\n",
    "            ctx.moveTo(X, Y);\n",
    "        } else {\n",
    "            ctx.moveTo(mouse.X, mouse.Y);\n",
    "        }\n",
    "        ctx.lineTo(X, Y);\n",
    "        \n",
    "        ctx.lineCap = \"round\";\n",
    "        ctx.lineWidth = config.linesize * 2;\n",
    "        ctx.strokeStyle = config.linecolor;\n",
    "        ctx.stroke();\n",
    "\n",
    "        mouse.X = X;\n",
    "        mouse.Y = Y;\n",
    "        if (auto_update.checked && (new Date()).getTime() - last_update > min_interval) {\n",
    "            last_update = (new Date()).getTime();\n",
    "            predict();\n",
    "        }\n",
    "    };\n",
    " \n",
    "    function drawEnd() {\n",
    "        mouse.X = null;\n",
    "        mouse.Y = null;\n",
    "        if (auto_update.checked) {\n",
    "            predict();        \n",
    "        }\n",
    "    }\n",
    "</script>\n",
    "'''\n",
    "import skimage.transform as transform\n",
    "from io import BytesIO\n",
    "from PIL import Image\n",
    "\n",
    "def predict(base64_img):\n",
    "    img = np.array(Image.open(BytesIO(base64.b64decode(base64_img.split(\",\")[-1]))))[:,:,3]\n",
    "    input_img = transform.downscale_local_mean(img, (10,10))\n",
    "    test_image(input_img)\n"
   ]
  },
  {
   "cell_type": "code",
   "execution_count": null,
   "metadata": {
    "slideshow": {
     "slide_type": "subslide"
    }
   },
   "outputs": [],
   "source": [
    "HTML(html_src)"
   ]
  },
  {
   "cell_type": "markdown",
   "metadata": {
    "slideshow": {
     "slide_type": "slide"
    }
   },
   "source": [
    "# まとめ\n",
    "* 手書き数字認識を題材としてDeep learning開発の一連の流れを実演\n",
    "\n",
    "## Deep learning 開発の流れ (再掲)\n",
    "* 環境構築\n",
    "* データセットの用意\n",
    "* ネットワーク構築\n",
    "* 学習\n",
    "* 評価\n",
    "* アプリケーション作成"
   ]
  }
 ],
 "metadata": {
  "celltoolbar": "Slideshow",
  "kernelspec": {
   "display_name": "Python 3",
   "language": "python",
   "name": "python3"
  },
  "language_info": {
   "codemirror_mode": {
    "name": "ipython",
    "version": 3
   },
   "file_extension": ".py",
   "mimetype": "text/x-python",
   "name": "python",
   "nbconvert_exporter": "python",
   "pygments_lexer": "ipython3",
   "version": "3.7.1"
  }
 },
 "nbformat": 4,
 "nbformat_minor": 2
}
